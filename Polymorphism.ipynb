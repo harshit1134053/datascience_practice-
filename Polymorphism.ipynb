{
  "nbformat": 4,
  "nbformat_minor": 0,
  "metadata": {
    "colab": {
      "provenance": []
    },
    "kernelspec": {
      "name": "python3",
      "display_name": "Python 3"
    },
    "language_info": {
      "name": "python"
    }
  },
  "cells": [
    {
      "cell_type": "code",
      "execution_count": 1,
      "metadata": {
        "id": "82u1XLQKDhY8"
      },
      "outputs": [],
      "source": [
        "class MTech_CSA:\n",
        "  def name(self):\n",
        "    print(\"Abhishek\")\n",
        "    print(\"Harsh\")\n",
        "    print(\"Harshit\")"
      ]
    },
    {
      "cell_type": "code",
      "source": [
        "class MTech_CSE:\n",
        "  def name(self):\n",
        "    print(\"Aditya soni \")\n",
        "    print(\"Nishant\")\n",
        "    print(\"Sanga\")"
      ],
      "metadata": {
        "id": "Q_9dFqLuD3IX"
      },
      "execution_count": 2,
      "outputs": []
    },
    {
      "cell_type": "code",
      "source": [
        "MTech_CSA=MTech_CSA()\n",
        "MTech_CSE=MTech_CSE()\n",
        "tracing =[MTech_CSA, MTech_CSE]\n"
      ],
      "metadata": {
        "id": "oca3FAdvEKVp"
      },
      "execution_count": 12,
      "outputs": []
    },
    {
      "cell_type": "code",
      "source": [
        "def names(tracing):\n",
        "  for i in tracing:\n",
        "    i.name()"
      ],
      "metadata": {
        "id": "ohZu-kUIESm9"
      },
      "execution_count": 14,
      "outputs": []
    },
    {
      "cell_type": "code",
      "source": [
        "names(tracing)"
      ],
      "metadata": {
        "colab": {
          "base_uri": "https://localhost:8080/"
        },
        "id": "JTjUdxl8ElSB",
        "outputId": "0609a471-b774-474b-b9bc-429308f8c477"
      },
      "execution_count": 15,
      "outputs": [
        {
          "output_type": "stream",
          "name": "stdout",
          "text": [
            "Abhishek\n",
            "Harsh\n",
            "Harshit\n",
            "Aditya soni \n",
            "Nishant\n",
            "Sanga\n"
          ]
        }
      ]
    },
    {
      "cell_type": "code",
      "source": [],
      "metadata": {
        "id": "stQQy3QPEo8P"
      },
      "execution_count": null,
      "outputs": []
    }
  ]
}