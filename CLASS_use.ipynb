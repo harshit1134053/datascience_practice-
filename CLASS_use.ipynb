{
  "nbformat": 4,
  "nbformat_minor": 0,
  "metadata": {
    "colab": {
      "provenance": []
    },
    "kernelspec": {
      "name": "python3",
      "display_name": "Python 3"
    },
    "language_info": {
      "name": "python"
    }
  },
  "cells": [
    {
      "cell_type": "code",
      "execution_count": 2,
      "metadata": {
        "id": "oKdbvQ-A8N1b"
      },
      "outputs": [],
      "source": [
        "class database:\n",
        "  def __init__(yo, name, age, dob, email_id, department, roll_no, address):\n",
        "    yo.name= name\n",
        "    yo.age= age\n",
        "    yo.dob= dob\n",
        "    yo.email_id= email_id\n",
        "    yo.department= department\n",
        "    yo.roll_no=roll_no\n",
        "    yo.address= address\n",
        "\n",
        "  def return_data(yo):\n",
        "    return yo.name,yo.age,yo.address,yo.email_id\n"
      ]
    },
    {
      "cell_type": "code",
      "source": [
        "harshit= database(\"shinchan\",23,20,\"shinchan@nitdelhi.ac.in\",\"MTech(CSA)\",232211011,\"Infront of swami shraddhananad college , Moksh Goel house  Alipur  Delhi\" )"
      ],
      "metadata": {
        "id": "sgMJY9xr81fn"
      },
      "execution_count": 10,
      "outputs": []
    },
    {
      "cell_type": "code",
      "source": [
        "harshit.return_data()"
      ],
      "metadata": {
        "colab": {
          "base_uri": "https://localhost:8080/"
        },
        "id": "N-Ctc4LT95J-",
        "outputId": "4d053b3f-12d9-4356-9f02-7beb3271fb96"
      },
      "execution_count": 13,
      "outputs": [
        {
          "output_type": "execute_result",
          "data": {
            "text/plain": [
              "('shinchan',\n",
              " 23,\n",
              " 'Infront of swami shraddhananad college , Moksh Goel house  Alipur  Delhi',\n",
              " 'shinchan@nitdelhi.ac.in')"
            ]
          },
          "metadata": {},
          "execution_count": 13
        }
      ]
    },
    {
      "cell_type": "code",
      "source": [],
      "metadata": {
        "id": "EvxpVzeV-eh0"
      },
      "execution_count": null,
      "outputs": []
    }
  ]
}